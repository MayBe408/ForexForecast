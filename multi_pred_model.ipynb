{
 "metadata": {
  "language_info": {
   "codemirror_mode": {
    "name": "ipython",
    "version": 3
   },
   "file_extension": ".py",
   "mimetype": "text/x-python",
   "name": "python",
   "nbconvert_exporter": "python",
   "pygments_lexer": "ipython3",
   "version": "3.8.5-final"
  },
  "orig_nbformat": 2,
  "kernelspec": {
   "name": "pycharm-eb2a1568",
   "language": "python",
   "display_name": "PyCharm (LSTM-FX-Train-Test)"
  }
 },
 "nbformat": 4,
 "nbformat_minor": 2,
 "cells": [
  {
   "cell_type": "code",
   "execution_count": null,
   "metadata": {
    "tags": []
   },
   "outputs": [],
   "source": [
    "# MIT License\n",
    "# Copyright (c) 2020 Adam Tibi (https://linkedin.com/in/adamtibi/ , https://adamtibi.net)\n",
    "\n",
    "import pandas as pd\n",
    "import numpy as np\n",
    "import matplotlib.pyplot as plt\n",
    "import joblib\n",
    "from sklearn.preprocessing import MinMaxScaler\n",
    "import tensorflow as tf\n",
    "from tensorflow.keras.models import load_model\n",
    "from common_variables import *"
   ]
  },
  {
   "cell_type": "code",
   "execution_count": null,
   "metadata": {
    "tags": []
   },
   "outputs": [],
   "source": [
    "pred_interval = 128 # Predict every n minutes\n",
    "pred_size = 30 # Prediction length into the future\n",
    "np.random.seed(seed)\n",
    "tf.random.set_seed(seed)"
   ]
  },
  {
   "cell_type": "code",
   "execution_count": null,
   "metadata": {
    "tags": []
   },
   "outputs": [],
   "source": [
    "df = pd.read_csv(test_time_series_path, dayfirst = True, index_col=['Date'], parse_dates=['Date'], usecols=['Date','HLAvg','MA','Returns'])[-batch_size*40:]"
   ]
  },
  {
   "cell_type": "code",
   "execution_count": null,
   "metadata": {
    "tags": []
   },
   "outputs": [],
   "source": [
    "scaler = joblib.load(scaler_path)\n",
    "df['Scaled'] = scaler.transform(df[['Returns']].values)"
   ]
  },
  {
   "cell_type": "code",
   "execution_count": null,
   "metadata": {
    "tags": []
   },
   "outputs": [],
   "source": [
    "model = load_model(model_path)"
   ]
  },
  {
   "cell_type": "code",
   "execution_count": null,
   "metadata": {
    "tags": []
   },
   "outputs": [],
   "source": [
    "scaled = df['Scaled'].values\n",
    "\n",
    "# Create empty column to store the multi predictions\n",
    "df[\"Pred_Close_From\"] =  np.nan\n",
    "df[\"Pred_Close_To\"] = np.nan\n",
    "\n",
    "# Cache the column indices \n",
    "pred_close_from_col_index = df.columns.get_loc('Pred_Close_From')\n",
    "pred_close_to_col_index = df.columns.get_loc('Pred_Close_To')\n",
    "\n",
    "ma_col_index = df.columns.get_loc('MA')\n",
    "predictions_for_plot = []\n",
    "df_len = df.shape[0]\n",
    "for i in range(window_size, df_len - pred_size, pred_interval):\n",
    "    X = [scaled[i-window_size:i]]\n",
    "    y = []\n",
    "    y_ma = df.iloc[i - 1, ma_col_index]\n",
    "    for _ in range(pred_size):\n",
    "        X = np.asarray(X)\n",
    "        X = np.reshape(X, (1, window_size, 1))\n",
    "        y_pred_scaled = model.predict(X)\n",
    "        y_return = scaler.inverse_transform(y_pred_scaled)\n",
    "        #y_ma = y_ma * (1 + y_return) # Arithmetic Returns\n",
    "        y_ma = y_ma * np.exp(y_return) # Log Returns\n",
    "        y.append(float(y_ma))\n",
    "        # Remove first item in the list\n",
    "        X = np.delete(X, 0)\n",
    "        # Add the new prediction to the end\n",
    "        X = np.append(X, y_pred_scaled)\n",
    "\n",
    "    df.iloc[i, pred_close_from_col_index] = y[0]\n",
    "    df.iloc[i, pred_close_to_col_index] = y[-1]\n",
    "    y_padded = np.pad(y, (i, df_len - pred_size - i), mode='constant', constant_values=np.nan)\n",
    "    df_plot = pd.Series(data=y_padded,index=df.index)\n",
    "\n",
    "    predictions_for_plot.append(df_plot)\n",
    "\n",
    "df"
   ]
  },
  {
   "cell_type": "code",
   "execution_count": null,
   "metadata": {
    "tags": []
   },
   "outputs": [],
   "source": [
    "plt.figure(figsize=(24, 8), dpi=80, facecolor='w', edgecolor='k')\n",
    "plt.plot(df['HLAvg'], color = 'green', label = 'True HLAvg', alpha=0.5)\n",
    "plt.plot(df['MA'], color = 'blue', label = 'True MA', alpha=0.5)\n",
    "for i in range(len(predictions_for_plot)):\n",
    "    plt.plot(predictions_for_plot[i], color = 'red', alpha=0.5)\n",
    "plt.title('True vs Predicted')\n",
    "plt.xlabel('Date')\n",
    "plt.ylabel('High-Low Avg')\n",
    "plt.legend()\n",
    "plt.show()"
   ]
  }
 ]
}